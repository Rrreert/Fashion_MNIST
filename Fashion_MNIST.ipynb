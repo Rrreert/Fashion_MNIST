{
  "nbformat": 4,
  "nbformat_minor": 0,
  "metadata": {
    "colab": {
      "provenance": []
    },
    "kernelspec": {
      "name": "python3",
      "display_name": "Python 3"
    },
    "language_info": {
      "name": "python"
    }
  },
  "cells": [
    {
      "cell_type": "code",
      "execution_count": 10,
      "metadata": {
        "id": "W2-YfI1neDEC"
      },
      "outputs": [],
      "source": [
        "from google.colab import files"
      ]
    },
    {
      "cell_type": "code",
      "source": [
        "!pip install tensorflow==2.7.0 --quiet\n",
        "!pip install streamlit==1.3.0 --quiet\n",
        "!pip install pyngrok==4.1.1 --quiet\n",
        "!pip install ginza ja-ginza --quiet\n",
        "!pip install jieba --quiet"
      ],
      "metadata": {
        "colab": {
          "base_uri": "https://localhost:8080/"
        },
        "id": "Ktor0aUmr3fl",
        "outputId": "8c403f48-31e3-4ca7-ba83-08dc785969fe"
      },
      "execution_count": null,
      "outputs": [
        {
          "output_type": "stream",
          "name": "stdout",
          "text": [
            "\u001b[2K     \u001b[90m━━━━━━━━━━━━━━━━━━━━━━━━━━━━━━━━━━━━━━━\u001b[0m \u001b[32m489.6/489.6 MB\u001b[0m \u001b[31m3.0 MB/s\u001b[0m eta \u001b[36m0:00:00\u001b[0m\n",
            "\u001b[2K     \u001b[90m━━━━━━━━━━━━━━━━━━━━━━━━━━━━━━━━━━━━━━━━\u001b[0m \u001b[32m1.3/1.3 MB\u001b[0m \u001b[31m49.3 MB/s\u001b[0m eta \u001b[36m0:00:00\u001b[0m\n",
            "\u001b[2K     \u001b[90m━━━━━━━━━━━━━━━━━━━━━━━━━━━━━━━━━━━━━━\u001b[0m \u001b[32m463.1/463.1 KB\u001b[0m \u001b[31m38.4 MB/s\u001b[0m eta \u001b[36m0:00:00\u001b[0m\n",
            "\u001b[2K     \u001b[90m━━━━━━━━━━━━━━━━━━━━━━━━━━━━━━━━━━━━━━━━\u001b[0m \u001b[32m9.2/9.2 MB\u001b[0m \u001b[31m26.3 MB/s\u001b[0m eta \u001b[36m0:00:00\u001b[0m\n",
            "\u001b[2K     \u001b[90m━━━━━━━━━━━━━━━━━━━━━━━━━━━━━━━━━━━━━━━━\u001b[0m \u001b[32m79.0/79.0 KB\u001b[0m \u001b[31m10.8 MB/s\u001b[0m eta \u001b[36m0:00:00\u001b[0m\n",
            "\u001b[?25h  Preparing metadata (setup.py) ... \u001b[?25l\u001b[?25hdone\n",
            "\u001b[2K     \u001b[90m━━━━━━━━━━━━━━━━━━━━━━━━━━━━━━━━━━━━━━\u001b[0m \u001b[32m184.0/184.0 KB\u001b[0m \u001b[31m22.9 MB/s\u001b[0m eta \u001b[36m0:00:00\u001b[0m\n",
            "\u001b[2K     \u001b[90m━━━━━━━━━━━━━━━━━━━━━━━━━━━━━━━━━━━━━━━━\u001b[0m \u001b[32m4.7/4.7 MB\u001b[0m \u001b[31m78.0 MB/s\u001b[0m eta \u001b[36m0:00:00\u001b[0m\n",
            "\u001b[2K     \u001b[90m━━━━━━━━━━━━━━━━━━━━━━━━━━━━━━━━━━━━━━\u001b[0m \u001b[32m164.8/164.8 KB\u001b[0m \u001b[31m19.8 MB/s\u001b[0m eta \u001b[36m0:00:00\u001b[0m\n",
            "\u001b[2K     \u001b[90m━━━━━━━━━━━━━━━━━━━━━━━━━━━━━━━━━━━━━━━━\u001b[0m \u001b[32m62.7/62.7 KB\u001b[0m \u001b[31m7.3 MB/s\u001b[0m eta \u001b[36m0:00:00\u001b[0m\n",
            "\u001b[?25h  Building wheel for validators (setup.py) ... \u001b[?25l\u001b[?25hdone\n",
            "  Preparing metadata (setup.py) ... \u001b[?25l\u001b[?25hdone\n",
            "  Building wheel for pyngrok (setup.py) ... \u001b[?25l\u001b[?25hdone\n",
            "\u001b[2K     \u001b[90m━━━━━━━━━━━━━━━━━━━━━━━━━━━━━━━━━━━━━━━━\u001b[0m \u001b[32m59.1/59.1 MB\u001b[0m \u001b[31m11.8 MB/s\u001b[0m eta \u001b[36m0:00:00\u001b[0m\n",
            "\u001b[?25h  Preparing metadata (setup.py) ... \u001b[?25l\u001b[?25hdone\n",
            "\u001b[2K     \u001b[90m━━━━━━━━━━━━━━━━━━━━━━━━━━━━━━━━━━━━━━━━\u001b[0m \u001b[32m2.2/2.2 MB\u001b[0m \u001b[31m72.6 MB/s\u001b[0m eta \u001b[36m0:00:00\u001b[0m\n",
            "\u001b[?25h  Building wheel for SudachiDict-core (setup.py) ... \u001b[?25l\u001b[?25hdone\n"
          ]
        }
      ]
    },
    {
      "cell_type": "code",
      "source": [
        "import streamlit as st\n",
        "from pyngrok import ngrok\n",
        "import tensorflow as tf\n",
        "import keras\n",
        "from keras.preprocessing.sequence import pad_sequences"
      ],
      "metadata": {
        "colab": {
          "base_uri": "https://localhost:8080/"
        },
        "id": "rEYSMnacpL_G",
        "outputId": "8e3e4a52-e8ce-4d49-fdc6-af885eda4306"
      },
      "execution_count": 1,
      "outputs": [
        {
          "output_type": "stream",
          "name": "stderr",
          "text": [
            "INFO:numexpr.utils:NumExpr defaulting to 2 threads.\n",
            "2023-01-11 12:18:43.717 INFO    numexpr.utils: NumExpr defaulting to 2 threads.\n"
          ]
        }
      ]
    },
    {
      "cell_type": "code",
      "source": [
        "!ngrok authtoken 2IcOhZUWrADNDIpxyWtwliwOr9w_38S6GqdwN7QTfrzPVwyH3"
      ],
      "metadata": {
        "colab": {
          "base_uri": "https://localhost:8080/"
        },
        "id": "2BVe7Ieeom58",
        "outputId": "d72874ae-2ed0-4353-8449-434b6ca3dbe8"
      },
      "execution_count": 2,
      "outputs": [
        {
          "output_type": "stream",
          "name": "stdout",
          "text": [
            "Authtoken saved to configuration file: /root/.ngrok2/ngrok.yml\n"
          ]
        }
      ]
    },
    {
      "cell_type": "code",
      "source": [
        "!streamlit run Fashion_MNIST.py &>/dev/null&"
      ],
      "metadata": {
        "id": "gCRIfyZXo33A"
      },
      "execution_count": 3,
      "outputs": []
    },
    {
      "cell_type": "code",
      "source": [
        "ngrok.kill()\n",
        "url = ngrok.connect(port=\"8501\")"
      ],
      "metadata": {
        "colab": {
          "base_uri": "https://localhost:8080/"
        },
        "id": "PnBF56Oko9Ja",
        "outputId": "776b9f5e-efe4-4842-ff9e-203e3700f688"
      },
      "execution_count": 4,
      "outputs": [
        {
          "output_type": "stream",
          "name": "stderr",
          "text": [
            "INFO:pyngrok.process:ngrok process starting: 10043\n",
            "2023-01-11 12:18:59.954 INFO    pyngrok.process: ngrok process starting: 10043\n",
            "INFO:pyngrok.process:t=2023-01-11T12:18:59+0000 lvl=info msg=\"no configuration paths supplied\"\n",
            "\n",
            "2023-01-11 12:19:00.000 INFO    pyngrok.process: t=2023-01-11T12:18:59+0000 lvl=info msg=\"no configuration paths supplied\"\n",
            "\n",
            "INFO:pyngrok.process:t=2023-01-11T12:19:00+0000 lvl=info msg=\"using configuration at default config path\" path=/root/.ngrok2/ngrok.yml\n",
            "\n",
            "2023-01-11 12:19:00.004 INFO    pyngrok.process: t=2023-01-11T12:19:00+0000 lvl=info msg=\"using configuration at default config path\" path=/root/.ngrok2/ngrok.yml\n",
            "\n",
            "INFO:pyngrok.process:t=2023-01-11T12:19:00+0000 lvl=info msg=\"open config file\" path=/root/.ngrok2/ngrok.yml err=nil\n",
            "\n",
            "2023-01-11 12:19:00.009 INFO    pyngrok.process: t=2023-01-11T12:19:00+0000 lvl=info msg=\"open config file\" path=/root/.ngrok2/ngrok.yml err=nil\n",
            "\n",
            "INFO:pyngrok.process:t=2023-01-11T12:19:00+0000 lvl=info msg=\"starting web service\" obj=web addr=127.0.0.1:4040\n",
            "\n",
            "2023-01-11 12:19:00.028 INFO    pyngrok.process: t=2023-01-11T12:19:00+0000 lvl=info msg=\"starting web service\" obj=web addr=127.0.0.1:4040\n",
            "\n",
            "INFO:pyngrok.process:t=2023-01-11T12:19:00+0000 lvl=info msg=\"tunnel session started\" obj=tunnels.session\n",
            "\n",
            "2023-01-11 12:19:00.296 INFO    pyngrok.process: t=2023-01-11T12:19:00+0000 lvl=info msg=\"tunnel session started\" obj=tunnels.session\n",
            "\n",
            "INFO:pyngrok.process:t=2023-01-11T12:19:00+0000 lvl=info msg=\"client session established\" obj=csess id=dfd97e5afb1f\n",
            "\n",
            "2023-01-11 12:19:00.302 INFO    pyngrok.process: t=2023-01-11T12:19:00+0000 lvl=info msg=\"client session established\" obj=csess id=dfd97e5afb1f\n",
            "\n",
            "INFO:pyngrok.process:ngrok process has started: http://127.0.0.1:4040\n",
            "2023-01-11 12:19:00.312 INFO    pyngrok.process: ngrok process has started: http://127.0.0.1:4040\n",
            "INFO:pyngrok.process:t=2023-01-11T12:19:00+0000 lvl=info msg=start pg=/api/tunnels id=822a302cd928e85c\n",
            "\n",
            "2023-01-11 12:19:00.330 INFO    pyngrok.process: t=2023-01-11T12:19:00+0000 lvl=info msg=start pg=/api/tunnels id=822a302cd928e85c\n",
            "\n",
            "INFO:pyngrok.process:t=2023-01-11T12:19:00+0000 lvl=info msg=end pg=/api/tunnels id=822a302cd928e85c status=200 dur=442.089µs\n",
            "\n",
            "2023-01-11 12:19:00.336 INFO    pyngrok.process: t=2023-01-11T12:19:00+0000 lvl=info msg=end pg=/api/tunnels id=822a302cd928e85c status=200 dur=442.089µs\n",
            "\n",
            "INFO:pyngrok.process:t=2023-01-11T12:19:00+0000 lvl=info msg=start pg=/api/tunnels id=d04b1e31ff375fbf\n",
            "\n",
            "2023-01-11 12:19:00.342 INFO    pyngrok.process: t=2023-01-11T12:19:00+0000 lvl=info msg=start pg=/api/tunnels id=d04b1e31ff375fbf\n",
            "\n",
            "INFO:pyngrok.process:t=2023-01-11T12:19:00+0000 lvl=info msg=end pg=/api/tunnels id=d04b1e31ff375fbf status=200 dur=138.978µs\n",
            "\n",
            "2023-01-11 12:19:00.347 INFO    pyngrok.process: t=2023-01-11T12:19:00+0000 lvl=info msg=end pg=/api/tunnels id=d04b1e31ff375fbf status=200 dur=138.978µs\n",
            "\n",
            "INFO:pyngrok.process:t=2023-01-11T12:19:00+0000 lvl=info msg=start pg=/api/tunnels id=41b3be9dce6a007e\n",
            "\n",
            "2023-01-11 12:19:00.351 INFO    pyngrok.process: t=2023-01-11T12:19:00+0000 lvl=info msg=start pg=/api/tunnels id=41b3be9dce6a007e\n",
            "\n",
            "INFO:pyngrok.process:t=2023-01-11T12:19:00+0000 lvl=info msg=\"started tunnel\" obj=tunnels name=\"http-8501-7a3446cc-cba0-4847-9f59-e97f2a25be57 (http)\" addr=http://localhost:8501 url=http://d7dd-34-125-161-64.ngrok.io\n",
            "\n",
            "2023-01-11 12:19:00.492 INFO    pyngrok.process: t=2023-01-11T12:19:00+0000 lvl=info msg=\"started tunnel\" obj=tunnels name=\"http-8501-7a3446cc-cba0-4847-9f59-e97f2a25be57 (http)\" addr=http://localhost:8501 url=http://d7dd-34-125-161-64.ngrok.io\n",
            "\n",
            "INFO:pyngrok.process:t=2023-01-11T12:19:00+0000 lvl=info msg=\"started tunnel\" obj=tunnels name=http-8501-7a3446cc-cba0-4847-9f59-e97f2a25be57 addr=http://localhost:8501 url=https://d7dd-34-125-161-64.ngrok.io\n",
            "\n",
            "2023-01-11 12:19:00.500 INFO    pyngrok.process: t=2023-01-11T12:19:00+0000 lvl=info msg=\"started tunnel\" obj=tunnels name=http-8501-7a3446cc-cba0-4847-9f59-e97f2a25be57 addr=http://localhost:8501 url=https://d7dd-34-125-161-64.ngrok.io\n",
            "\n",
            "INFO:pyngrok.process:t=2023-01-11T12:19:00+0000 lvl=info msg=end pg=/api/tunnels id=41b3be9dce6a007e status=201 dur=159.368252ms\n",
            "\n",
            "2023-01-11 12:19:00.505 INFO    pyngrok.process: t=2023-01-11T12:19:00+0000 lvl=info msg=end pg=/api/tunnels id=41b3be9dce6a007e status=201 dur=159.368252ms\n",
            "\n"
          ]
        }
      ]
    },
    {
      "cell_type": "code",
      "source": [
        "url"
      ],
      "metadata": {
        "colab": {
          "base_uri": "https://localhost:8080/",
          "height": 35
        },
        "id": "dKvC0j-upl39",
        "outputId": "1200c969-cba6-4430-aa23-2e6796f00390"
      },
      "execution_count": 5,
      "outputs": [
        {
          "output_type": "execute_result",
          "data": {
            "text/plain": [
              "'http://d7dd-34-125-161-64.ngrok.io'"
            ],
            "application/vnd.google.colaboratory.intrinsic+json": {
              "type": "string"
            }
          },
          "metadata": {},
          "execution_count": 5
        }
      ]
    },
    {
      "cell_type": "code",
      "source": [],
      "metadata": {
        "id": "lYjc7bdADl68"
      },
      "execution_count": null,
      "outputs": []
    },
    {
      "cell_type": "code",
      "source": [],
      "metadata": {
        "id": "9qie82VoDuI_"
      },
      "execution_count": null,
      "outputs": []
    }
  ]
}